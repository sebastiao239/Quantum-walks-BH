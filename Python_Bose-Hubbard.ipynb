{
 "cells": [
  {
   "cell_type": "code",
   "execution_count": 1,
   "id": "d4381858",
   "metadata": {},
   "outputs": [],
   "source": [
    "import numpy as np\n",
    "import matplotlib.pyplot as plt\n",
    "import copy\n",
    "%matplotlib inline\n",
    "import math\n",
    "from numpy import linalg as LA\n",
    "\n",
    "from scipy.linalg import eig, eigh\n",
    "from scipy.sparse.linalg import eigs, eigsh\n",
    "np.set_printoptions(linewidth=np.inf)\n",
    "\n",
    "import time\n"
   ]
  },
  {
   "cell_type": "code",
   "execution_count": 2,
   "id": "a45dd14f",
   "metadata": {},
   "outputs": [],
   "source": [
    "##implementar el criterio para esocger la k\n",
    "def serchk(n,M): # n es el vector de estados,\n",
    "                 # M es la longitud del vector o lo sitios de ocupacion\n",
    "        \n",
    "    k=0                    #iniciamos en k=0\n",
    "    for i in range(M):   ##Recorreremos todas las posiciones M para checar las j>i \n",
    "        k=i              ###nuestro prospecto a ser k\n",
    "        #print(\"1 for \",k)\n",
    "        flag=0             ##definimos unna bandera que si es \n",
    "                                    #1=> significa que encontro un n_{j} tal que los de adelante son 0 \n",
    "                                    #0=> no lo ha encontrado\n",
    "        for j in range(k+1,M-1):  #Revisaremos los n_{j} j>i si son cero\n",
    "            #print(\"2 for \", n[j])\n",
    "            if n[j]!=0.0:        # si se encuentra una n_{j} != 0\n",
    "                break                   #ya no revise lo demas\n",
    "            elif j==M-2:         #si j llega al penultimo valor entonces \n",
    "                flag=1                  #ya lo encontro\n",
    "            #print(\"bandera \",flag)\n",
    "        if flag==1:              # si la bandera es 1, es decir ya encontro la k\n",
    "            k=i                  # entonces esa i es la k\n",
    "            break                # ya no hace falta revisar más\n",
    "    if k==(M-1):           #si no encontro ningún valor significa que tomaremos el penultimo valor\n",
    "        k=M-2             #entonces k=M-1\n",
    "    return k "
   ]
  },
  {
   "cell_type": "code",
   "execution_count": 3,
   "id": "2d902a61",
   "metadata": {},
   "outputs": [],
   "source": [
    "def base_fock(N,M):\n",
    "    #D=math.factorial(N+M-1)/(math.factorial(N)*math.factorial(M-1))\n",
    "    D=math.comb(N+M-1,N) # Es la dimension del espacio de Hilbert\n",
    "    DM=np.zeros((D,M)) #Aqui se colocarán las bases\n",
    "    #N=3  #numero de particlas\n",
    "    #M=3  #Numero de sitios\n",
    "    n=np.zeros(M)  #Este representará los estaods\n",
    "    n[0]=N           # Colocamos en el lugar K=0 el número de particulas |N,0,0,0,0,...,0>\n",
    "\n",
    "    DM[0,:]=n        #Colocamos el primer estado en una matriz\n",
    "    l=0              # Necesitamos un contador para colocar los demas estados\n",
    "    while n[-1]!=N:\n",
    "        l=l+1        # variamos el contador\n",
    "        k=serchk(n,M) #buscamos la k\n",
    "\n",
    "        n[k]=n[k]-1 # Primer paso del cambio n_{k}=n_{k}-1\n",
    "\n",
    "\n",
    "        ## Compienza el segundo paso de la suma n_{k+1}=n_{k}-1\n",
    "        n[k+1]=N\n",
    "        for i in range(k+1): #se le coloca un +1 para que pueda acceder al menos a la posicion 0\n",
    "            n[k+1]=n[k+1]-n[i]\n",
    "        ### Cambiamos por ceros los n_{i} tales que i >= k+2\n",
    "        for i in range(k+2,M):\n",
    "            n[i]=0          \n",
    "        \n",
    "        DM[l,:]=n  #Agregamos el estado n al la fila l\n",
    "    return DM\n",
    "\n",
    "def base_2_ex(N):\n",
    "    base_2_extendida=np.zeros(((N+1)**2,2))\n",
    "    l=0\n",
    "    for i in range(N+1):\n",
    "        for j in range(N+1):\n",
    "            base_2_extendida[l,0]=i\n",
    "            base_2_extendida[l,1]=j\n",
    "            l+=1\n",
    "    return base_2_extendida"
   ]
  },
  {
   "cell_type": "code",
   "execution_count": 4,
   "id": "e0640c03",
   "metadata": {},
   "outputs": [],
   "source": [
    "### Operadores de ascenso y descenso y numero\n",
    "\n",
    "def ascenso_i(estado,i,N):\n",
    "    part=estado[i]+1\n",
    "    norm=np.sqrt(estado[i]+1)\n",
    "    if part>N:\n",
    "        part=0\n",
    "        norm=0\n",
    "    estado[i]=part\n",
    "    return norm\n",
    "\n",
    "def descenso_i(estado,i,N):\n",
    "    part=estado[i]-1\n",
    "    norm=np.sqrt(estado[i])\n",
    "    if part<0:\n",
    "        part=0\n",
    "        norm=0\n",
    "    estado[i]=part\n",
    "    return  norm\n",
    "\n",
    "def numero_i(estado,i):\n",
    "    return estado[i]"
   ]
  },
  {
   "cell_type": "code",
   "execution_count": 5,
   "id": "6566e036",
   "metadata": {},
   "outputs": [],
   "source": [
    "def buscador(estado,N,M):\n",
    "    i0=N #indice para ayudarnos a que este fijo el num de particulas disponibles\n",
    "    i1=0 #indice para ayudarnos a restar\n",
    "    Sitios=2 #Numero de sitios que se quitan +1 (al principio se quita un sitio por eso es 2)\n",
    "\n",
    "    contador=0\n",
    "    \n",
    "    for i in range(M):\n",
    "        while (i0-i1)!=estado[i]:\n",
    "            contador=contador+math.comb(M-Sitios+i1,i1)\n",
    "            i1+=1\n",
    "        i0=i1\n",
    "        i1=0\n",
    "        Sitios+=1\n",
    "    return contador\n",
    "def buscador_ext_bas(vec_base_ext,N):\n",
    "    return np.int64(vec_base_ext[0]*(N+1) + vec_base_ext[1])\n"
   ]
  },
  {
   "cell_type": "code",
   "execution_count": 6,
   "id": "342e4683",
   "metadata": {},
   "outputs": [],
   "source": [
    "#Hamiltoniano Cinético at_{m}*a_{m+1} + at_{m+1}*a_{m}\n",
    "def H_J(J,N,M,D,base):\n",
    "    H=np.zeros((D,D))\n",
    "    #Esta es la parte     at_{m}*a_{m+1} + at_{m+1}*a_{m}\n",
    "    for l in range(D):#Usaremos cada elemento de la base\n",
    "        for mu in range(M):\n",
    "            n=copy.deepcopy(base[l]) # Es el vector con el que se trabajara\n",
    "            if mu==M-1:\n",
    "                a=descenso_i(n,0,N)\n",
    "                at=ascenso_i(n,mu,N)\n",
    "            else:\n",
    "                a=descenso_i(n,mu+1,N)\n",
    "                at=ascenso_i(n,mu,N)\n",
    "            if at*a != 0:\n",
    "                col=buscador(n,N,M)\n",
    "                H[col,l]+=-J*at*a\n",
    "                H[l,col]+=-J*at*a\n",
    "    return H\n",
    "\n",
    "def H_U(U,N,M,D,base):\n",
    "    H=np.zeros((D,D))\n",
    "    for l in range(D):\n",
    "        n=copy.deepcopy(base[l])\n",
    "        for i in range(M):\n",
    "            H[l,l]+=U*0.5*n[i]*(n[i]-1)\n",
    "    return H\n"
   ]
  },
  {
   "cell_type": "code",
   "execution_count": 7,
   "id": "876b4321",
   "metadata": {},
   "outputs": [],
   "source": [
    "def evolucion_temporal(t, Vec_0_E,D):\n",
    "    Vec_final=np.zeros(D,dtype=np.complex_)\n",
    "    exponencial=np.exp(-1j*t*evals)\n",
    "    for i in range(D):\n",
    "        Vec_final[i]=exponencial[i]*Vec_0_E[i]\n",
    "    return Vec_final"
   ]
  },
  {
   "cell_type": "code",
   "execution_count": 8,
   "id": "2d85b507",
   "metadata": {},
   "outputs": [],
   "source": [
    "def rho_c_reducida_ex(n_nu,n_mu,N,D,D_ext,bases,base_2_extendida,rho_c):\n",
    "    rho_c_reducida_exten=np.zeros((D_ext,D_ext),dtype=np.complex_)\n",
    "    \n",
    "    ### Revisamos cada uno de los elemtnos de la base extendida |n_{\\nu}^{i},n_{\\mu}^{i}><n_{\\nu}^{j},n_{\\mu}^{j}|\n",
    "    for i in range(D_ext):\n",
    "        for j in range(D_ext):\n",
    "            #### Esta es la primera delta de dirac (conservacion de particulas en la traza) --->\n",
    "            ####  ---> \\delta_{ n_{\\nu}^{i}+n_{\\mu}^{i} , n_{\\nu}^{j}+n_{\\mu}^{j} }\n",
    "            if np.sum(base_2_extendida[i])==np.sum(base_2_extendida[j]):\n",
    "            ### Aqui es la segunda delta de dirac (Conservacion de particulas sin traza) --->\n",
    "            ### ----->\\delta_{n_{1}^{i}+n_{2}^{i}+...+n_{M}^{i}} , N}\n",
    "                for k in range(D): #Tecnicamente ya sabemos quienes cumplen eso son los de la base de fock\n",
    "                    # Reviamos que elementos de la base de fock tienen n_{\\nu}^{i} y n_{\\mu}^{i} simultaneamente de la base extendida para i\n",
    "                    # el k-esimo elemento es <k|\\rho(t)| NOSE >\n",
    "                    if (bases[k][n_nu]==base_2_extendida[i,0]) & (bases[k][n_mu]==base_2_extendida[i,1]):\n",
    "                        #falta construir el NOSE que se compone de |n_{}^{i}...n_{\\nu}^{j}...n_{\\mu}^{j}>\n",
    "                        #Con el <k| coinciden los que no son n_{\\nu}^{j} n_{\\mu}^{j}, entonces\n",
    "                        NOSE=copy.deepcopy(bases[k])\n",
    "                        NOSE[n_nu],NOSE[n_mu]=base_2_extendida[j][0],base_2_extendida[j][1]\n",
    "                        rho_c_reducida_exten[i,j]=rho_c[buscador(bases[k],N,M),buscador(NOSE,N,M)]\n",
    "    ### Traza parcial\n",
    "    \n",
    "    rho_c_reducida_exten_trans_par=np.zeros((D_ext,D_ext),dtype=np.complex_)\n",
    "    ## Vamos a recorer cada elemento de la matriz de densidad reducida para transponerla\n",
    "    for i in range(D_ext):\n",
    "        for j in range(D_ext):\n",
    "            ### Trasnponemos |n_{\\nu}^{i},n_{\\mu}^{i}><n_{\\nu}^{j},n_{\\mu}^{j}| --->\n",
    "            ###     ------>  |n_{\\nu}^{i},n_{\\mu}^{j}><n_{\\nu}^{j},n_{\\mu}^{i}|\n",
    "            Transpo1=buscador_ext_bas([base_2_extendida[i][0], base_2_extendida[j][1]],N)\n",
    "            Transpo2=buscador_ext_bas([base_2_extendida[j][0], base_2_extendida[i][1]],N)\n",
    "            \n",
    "            rho_c_reducida_exten_trans_par[Transpo1,Transpo2]=rho_c_reducida_exten[i,j]\n",
    "    return rho_c_reducida_exten_trans_par"
   ]
  },
  {
   "cell_type": "code",
   "execution_count": 9,
   "id": "1f27bebb",
   "metadata": {},
   "outputs": [],
   "source": [
    "#buscador([2,0,0],N,M)\n"
   ]
  },
  {
   "cell_type": "code",
   "execution_count": 45,
   "id": "fe1cad60",
   "metadata": {},
   "outputs": [
    {
     "name": "stdout",
     "output_type": "stream",
     "text": [
      "0.9866101741790771\n"
     ]
    }
   ],
   "source": [
    "start = time.time()\n",
    "\n",
    "\n",
    "N=2 #Numero de sitios\n",
    "M=3 #Numeor de Bosones\n",
    "D=math.comb(N+M-1,N)\n",
    "D_ext=(N+1)**2\n",
    "J=0.01\n",
    "U=1.0\n",
    "\n",
    "bases=base_fock(N,M)\n",
    "base_2_extendida=base_2_ex(N)\n",
    "\n",
    "#Sitios de entrelazamiento\n",
    "n_nu=0\n",
    "n_mu=1\n",
    "\n",
    "#Condicion inicial \n",
    "Vector_0_F=np.zeros(D)\n",
    "Vector_0_F[0]=1\n",
    "\n",
    "#tiempo\n",
    "dt=0.1\n",
    "Time_0=0\n",
    "Time_f=100\n",
    "times=np.arange(Time_0, Time_f, dt)\n",
    "\n",
    "H=H_J(J,N,M,D,bases)+H_U(U,N,M,D,bases)\n",
    "\n",
    "evals, Change_E_F=eigh(H)  #MAtriz cambio de base de Energias a Fock\n",
    "Change_F_E=np.transpose(Change_E_F) # MAtriz cambio de base de Fock a Energias\n",
    "Vector_0_E=np.dot(Change_F_E,Vector_0_F) #vector inicial para la base de energias\n",
    "#DATA_N=np.zeros(len(times))\n",
    "\n",
    "f=open(\"Negativity_python.dat\",\"w\")\n",
    "\n",
    "for (index, t) in enumerate(times):\n",
    "\n",
    "    Edo_F_t=np.dot(Change_E_F, evolucion_temporal(t,Vector_0_E,D)) #Es la evolución temporal\n",
    "    Edo_F_t_conj=Edo_F_t.conjugate()\n",
    "\n",
    "    #if t==0:\n",
    "    #    print(Edo_F_t)\n",
    "    rho_c=np.zeros((D,D),dtype=np.complex_) #Hacemos la matriz de densidad\n",
    "    for i1 in range(D):\n",
    "        for i2 in range(D):\n",
    "            rho_c[i1,i2]=Edo_F_t[i1]*Edo_F_t_conj[i2]\n",
    "\n",
    "    Eva=LA.eigvalsh(rho_c_reducida_ex(n_nu,n_mu,N,D,D_ext,bases,base_2_extendida,rho_c))\n",
    "\n",
    "    Negativity=0\n",
    "    for i in Eva:\n",
    "        if i<0:\n",
    "            Negativity+=abs(i)\n",
    "\n",
    "    #DATA_N[index]=Negativity\n",
    "    f.write(str(Negativity)+\" \"+str(t)+\"\\n\")\n",
    "f.close()\n",
    "\n",
    "end = time.time()\n",
    "print(end - start)"
   ]
  },
  {
   "cell_type": "code",
   "execution_count": 46,
   "id": "f233eb11",
   "metadata": {
    "scrolled": true
   },
   "outputs": [],
   "source": [
    "#plt.plot(times, DATA_N)"
   ]
  },
  {
   "cell_type": "code",
   "execution_count": 47,
   "id": "2824e7a7",
   "metadata": {},
   "outputs": [],
   "source": [
    "# f=open(\"Negativity_python.dat\",\"w\")\n",
    "# for i in range(len(times)):\n",
    "#     f.write(str(DATA_N[i])+\" \"+str(times[i])+\"\\n\")\n",
    "# f.close()"
   ]
  },
  {
   "cell_type": "code",
   "execution_count": 48,
   "id": "4f02ae4f",
   "metadata": {},
   "outputs": [
    {
     "data": {
      "text/plain": [
       "array([-0.01599131, -0.01166007,  0.        ,  0.81641332,  0.        , -0.57712877])"
      ]
     },
     "execution_count": 48,
     "metadata": {},
     "output_type": "execute_result"
    }
   ],
   "source": [
    "Vector_0_E"
   ]
  },
  {
   "cell_type": "code",
   "execution_count": 53,
   "id": "390c8398",
   "metadata": {},
   "outputs": [
    {
     "data": {
      "text/plain": [
       "array([-0.01599131, -0.57712877, -0.57712877, -0.01599131, -0.57712877, -0.01599131])"
      ]
     },
     "execution_count": 53,
     "metadata": {},
     "output_type": "execute_result"
    }
   ],
   "source": [
    "Change_E_F[0:,0]"
   ]
  },
  {
   "cell_type": "code",
   "execution_count": 50,
   "id": "92fd63bc",
   "metadata": {},
   "outputs": [
    {
     "data": {
      "text/plain": [
       "array([[-1.59913078e-02, -1.16600735e-02,  0.00000000e+00,  8.16413320e-01,  0.00000000e+00, -5.77128765e-01],\n",
       "       [-5.77128765e-01, -4.08206660e-01,  7.07034675e-01, -5.83003677e-03,  1.00979199e-02,  1.59913078e-02],\n",
       "       [-5.77128765e-01, -4.08206660e-01, -7.07034675e-01, -5.83003677e-03, -1.00979199e-02,  1.59913078e-02],\n",
       "       [-1.59913078e-02,  5.83003677e-03,  1.00979199e-02, -4.08206660e-01, -7.07034675e-01, -5.77128765e-01],\n",
       "       [-5.77128765e-01,  8.16413320e-01, -1.11022302e-16,  1.16600735e-02, -6.76542156e-17,  1.59913078e-02],\n",
       "       [-1.59913078e-02,  5.83003677e-03, -1.00979199e-02, -4.08206660e-01,  7.07034675e-01, -5.77128765e-01]])"
      ]
     },
     "execution_count": 50,
     "metadata": {},
     "output_type": "execute_result"
    }
   ],
   "source": [
    "Change_E_F"
   ]
  },
  {
   "cell_type": "code",
   "execution_count": null,
   "id": "8f887854",
   "metadata": {},
   "outputs": [],
   "source": []
  }
 ],
 "metadata": {
  "kernelspec": {
   "display_name": "Python 3 (ipykernel)",
   "language": "python",
   "name": "python3"
  },
  "language_info": {
   "codemirror_mode": {
    "name": "ipython",
    "version": 3
   },
   "file_extension": ".py",
   "mimetype": "text/x-python",
   "name": "python",
   "nbconvert_exporter": "python",
   "pygments_lexer": "ipython3",
   "version": "3.9.12"
  }
 },
 "nbformat": 4,
 "nbformat_minor": 5
}
