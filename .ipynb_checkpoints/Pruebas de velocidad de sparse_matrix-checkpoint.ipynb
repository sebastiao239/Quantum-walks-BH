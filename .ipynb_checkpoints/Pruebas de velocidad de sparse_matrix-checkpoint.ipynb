{
 "cells": [
  {
   "cell_type": "code",
   "execution_count": 155,
   "id": "3b42d1e9",
   "metadata": {},
   "outputs": [
    {
     "data": {
      "text/plain": [
       "Plots.Font(\"sans-serif\", 15, :hcenter, :vcenter, 0.0, RGB{N0f8}(0.0,0.0,0.0))"
      ]
     },
     "execution_count": 155,
     "metadata": {},
     "output_type": "execute_result"
    }
   ],
   "source": [
    "using LinearAlgebra\n",
    "using SparseArrays\n",
    "using Plots\n",
    "using LaTeXStrings\n",
    "using DelimitedFiles\n",
    "using Polynomials\n",
    "using Statistics\n",
    "using FastExpm\n",
    "using Arpack\n",
    "fnt = Plots.font(\"sans-serif\", 15) # Para gráficar loas labels\n"
   ]
  },
  {
   "cell_type": "code",
   "execution_count": 2,
   "id": "403d9f38",
   "metadata": {},
   "outputs": [
    {
     "data": {
      "text/plain": [
       "buscador_ext_bas (generic function with 1 method)"
      ]
     },
     "execution_count": 2,
     "metadata": {},
     "output_type": "execute_result"
    }
   ],
   "source": [
    "#Nos busca un indice k tal que los numeros posteriores son 0\n",
    "#k=3 si |2,1,0,0,0> \n",
    "function search_k(M::Int64,n::Vector{Int64})\n",
    "    k=1 #iniciamos en la pos 1\n",
    "    for i=1:M #Recorreremos todas las posisiciones M para checar las j>i\n",
    "        k=i #Nuestro primer prospecto a ser j\n",
    "        flag=0 #Definimos una bandera si es\n",
    "                # 1--> significa que encontro una n_{j} tal que los de adelante son 0\n",
    "                #0--> no lo ha encontrado\n",
    "        for j=k+1:M-1 #Revisaremos los n_{j} j>i si son cero\n",
    "            if n[j]!=0 # si encientra una n_{j}!=0\n",
    "                break  # ya no revises más\n",
    "            elseif (j == M-1) # si j llega al penultimo valor entonces\n",
    "                flag=1 # ya lo encontró\n",
    "            end\n",
    "        end\n",
    "        if flag==1 # si la bandera es 1, ya encontro la k\n",
    "            k=i # entonces esa i es la k\n",
    "            break # ya no hace falta revisar más\n",
    "        end\n",
    "    \n",
    "    if k==M # si no encontro ningun valor entonces signfica que tomaremos el penultimo valor\n",
    "        k=M-1\n",
    "    end\n",
    "        \n",
    "    end\n",
    "    \n",
    "    return k\n",
    "end\n",
    "\n",
    "function base_fock(N::Int64,M::Int64)\n",
    "    D=binomial(N+M-1,N) #declaramos la variable de la dimension del espacio de Hilbert\n",
    "    DM=zeros(Int64,(D,M)) #Aquí se colocaran las bases\n",
    "    n=zeros(Int64,M) #Este vector va a ser el que modificaremos y usaremos para sobre escribir cada fila de DM\n",
    "    \n",
    "    DM[1,1]=N #El primer estado de la base\n",
    "    n[1]=N    # Coincidde con el estado base\n",
    "    \n",
    "    l=1 # es un contador para colocar los demas estados\n",
    "     #k es el indice donde despues de ese todos son ceros\n",
    "    \n",
    "    while n[M]!=N\n",
    "        l+=1 #incrementamos el contador\n",
    "        k=search_k(M,n) #buscamos la k\n",
    "        n[k]=n[k]-1 #Primer paso del cambio n_{k}=n_{k}-1\n",
    "        #Compienza el segundo paso de la suma n_{k+1}=n_{k}-1\n",
    "        n[k+1]=N\n",
    "\n",
    "        for i=1:k\n",
    "            n[k+1]=n[k+1]-n[i]\n",
    "        end\n",
    "        #Cambiamos por ceros los n_{i} tales que i>=k+2\n",
    "        for i=k+2:M\n",
    "            n[i]=0\n",
    "        end\n",
    "        #Agregamos el estado n a la fila l\n",
    "        DM[l,:]=n\n",
    "    end\n",
    "    \n",
    "    \n",
    "    return DM;\n",
    "    \n",
    "end\n",
    "\n",
    "# Operadores de Hamiltoniano\n",
    "function ascenso_mu(mu::Int64, N::Int64,vector_base::Vector{Int64})\n",
    "    part=vector_base[mu]+1\n",
    "    norm=sqrt(vector_base[mu]+1)\n",
    "    if part>N\n",
    "        norm=0.0\n",
    "    end\n",
    "    vector_base[mu]=part\n",
    "    return norm;\n",
    "end\n",
    "\n",
    "function descenso_mu(mu::Int64, N::Int64,vector_base::Vector{Int64})\n",
    "    \n",
    "    part=vector_base[mu]-1\n",
    "    if vector_base[mu]<0\n",
    "        norm=0.0\n",
    "    else\n",
    "        norm=sqrt(vector_base[mu])\n",
    "    end\n",
    "    \n",
    "    if part<0\n",
    "        norm=0.0\n",
    "    end\n",
    "    vector_base[mu]=part\n",
    "    return norm;\n",
    "end\n",
    "\n",
    "function Numero_mu(mu::Int64, N::Int64,vector_base::Vector{Int64})\n",
    "    return vector_base[mu];\n",
    "end\n",
    "\n",
    "##//Funcion para localizar vectores base//////////\n",
    "function Buscador(vector_base::Vector{Int64},N::Int64,M::Int64)\n",
    "\n",
    "    i0=N #indice para ayudarnos a que este fijo el num de particulas disponibles\n",
    "    i1=0 #indice para ayudarnos a restar\n",
    "    Sitios=2 #Numero de sitios que se quitan +1 (al principio se quita un sitio por eso es 2)\n",
    "\n",
    "    contador=1\n",
    "\n",
    "    for j=1:M\n",
    "        while i0-i1 != vector_base[j]\n",
    "            contador=contador+binomial(M-Sitios+i1,i1)\n",
    "            i1+=1\n",
    "        end\n",
    "        i0=i1\n",
    "        i1=0\n",
    "        Sitios+=1\n",
    "    end\n",
    "\n",
    "    return contador\n",
    "end\n",
    "\n",
    "# Base extendida\n",
    "function base_2_ex(N::Int64)\n",
    "    base_2_extendida=zeros(Int64,((N+1)^2,2))\n",
    "    l=1\n",
    "    for i=0:N\n",
    "        for j=0:N\n",
    "            base_2_extendida[l,:]=[i,j]\n",
    "            l=l+1\n",
    "        end\n",
    "    end\n",
    "    return base_2_extendida\n",
    "end\n",
    "\n",
    "# base_2_extendida=base_2_ex(N)\n",
    "\n",
    "function buscador_ext_bas(vector_base_ext::Vector{Int64},N::Int64)\n",
    "    return ( vector_base_ext[1]*(N+1) )+1 +vector_base_ext[2]\n",
    "end\n"
   ]
  },
  {
   "cell_type": "code",
   "execution_count": 37,
   "id": "77e855ef",
   "metadata": {},
   "outputs": [
    {
     "data": {
      "text/plain": [
       "H_J_sparse (generic function with 2 methods)"
      ]
     },
     "execution_count": 37,
     "metadata": {},
     "output_type": "execute_result"
    }
   ],
   "source": [
    "function H_J(J::Float64,N::Int64,M::Int64,D::Int64,bases::Matrix{Int64})\n",
    "    H=zeros(D,D)\n",
    "    #Esta es la parte     at_{m}*a_{m+1} + at_{m+1}*a_{m}\n",
    "    for l=1:D #Usaremos cada elemento de la base\n",
    "        for mu=1:M #Recorreremos cada sitio del elemento de la base\n",
    "            n=bases[l,:] #Es el vector con el que se trabajara\n",
    "            #Aplicamos las condiciones de frontera periodicas ANILLO\n",
    "            if mu==M\n",
    "                a=descenso_mu(1,N,n)\n",
    "                at=ascenso_mu(mu,N,n)\n",
    "            else\n",
    "                a=descenso_mu(mu+1,N,n)\n",
    "                at=ascenso_mu(mu,N,n)\n",
    "            end\n",
    "            if at*a != 0\n",
    "                col=Buscador(n,N,M)\n",
    "                H[col,l]=H[col,l]-J*at*a\n",
    "                H[l,col]=H[l,col]-J*at*a\n",
    "            end\n",
    "\n",
    "        end\n",
    "    end\n",
    "    return H\n",
    "end\n",
    "\n",
    "function H_J_sparse(J::Float64,bases::Matrix{Int64})\n",
    "    H=spzeros(D,D)\n",
    "    #Esta es la parte     at_{m}*a_{m+1} + at_{m+1}*a_{m}\n",
    "    for l=1:D #Usaremos cada elemento de la base\n",
    "        for mu=1:M #Recorreremos cada sitio del elemento de la base\n",
    "            n=bases[l,:] #Es el vector con el que se trabajara\n",
    "            #Aplicamos las condiciones de frontera periodicas ANILLO\n",
    "            if mu==M\n",
    "                a=descenso_mu(1,N,n)\n",
    "                at=ascenso_mu(mu,N,n)\n",
    "            else\n",
    "                a=descenso_mu(mu+1,N,n)\n",
    "                at=ascenso_mu(mu,N,n)\n",
    "            end\n",
    "            if at*a != 0\n",
    "                col=Buscador(n,N,M)\n",
    "                H[col,l]=H[col,l]-J*at*a\n",
    "                H[l,col]=H[l,col]-J*at*a\n",
    "            end\n",
    "\n",
    "        end\n",
    "    end\n",
    "    return H\n",
    "end"
   ]
  },
  {
   "cell_type": "code",
   "execution_count": 270,
   "id": "9f341972",
   "metadata": {},
   "outputs": [
    {
     "name": "stdout",
     "output_type": "stream",
     "text": [
      "252\n"
     ]
    }
   ],
   "source": [
    "J=1.0\n",
    "N=5\n",
    "M=6\n",
    "D=binomial(N+M-1,N)\n",
    "bases=base_fock(N,M);\n",
    "println(D)"
   ]
  },
  {
   "cell_type": "code",
   "execution_count": 271,
   "id": "4956b906",
   "metadata": {
    "scrolled": true
   },
   "outputs": [
    {
     "name": "stdout",
     "output_type": "stream",
     "text": [
      "  0.000931 seconds (1.51 k allocations: 661.547 KiB)\n"
     ]
    }
   ],
   "source": [
    "@time H_Normal=H_J(J,N,M,D,bases);"
   ]
  },
  {
   "cell_type": "code",
   "execution_count": 272,
   "id": "5c9b43e3",
   "metadata": {},
   "outputs": [
    {
     "name": "stdout",
     "output_type": "stream",
     "text": [
      "  0.003633 seconds (17.15 k allocations: 645.547 KiB)\n"
     ]
    }
   ],
   "source": [
    "@time H_J_sparse(J,bases);"
   ]
  },
  {
   "cell_type": "code",
   "execution_count": 273,
   "id": "53453c12",
   "metadata": {},
   "outputs": [
    {
     "name": "stdout",
     "output_type": "stream",
     "text": [
      "  0.098006 seconds (15.65 k allocations: 3.939 MiB)\n"
     ]
    }
   ],
   "source": [
    "@time exp(H_J(J,bases));"
   ]
  },
  {
   "cell_type": "code",
   "execution_count": 274,
   "id": "c8cf4685",
   "metadata": {},
   "outputs": [
    {
     "name": "stdout",
     "output_type": "stream",
     "text": [
      "  0.191449 seconds (17.41 k allocations: 47.910 MiB)\n"
     ]
    }
   ],
   "source": [
    "@time fastExpm(H_J_sparse(J,bases));"
   ]
  },
  {
   "cell_type": "code",
   "execution_count": 275,
   "id": "72c56510",
   "metadata": {},
   "outputs": [],
   "source": [
    "##Es más lento..."
   ]
  },
  {
   "cell_type": "code",
   "execution_count": 276,
   "id": "e7910024",
   "metadata": {
    "scrolled": false
   },
   "outputs": [
    {
     "name": "stdout",
     "output_type": "stream",
     "text": [
      "  0.111186 seconds (15.64 k allocations: 2.483 MiB)\n",
      "  0.012749 seconds (15.64 k allocations: 1.514 MiB)\n"
     ]
    },
    {
     "data": {
      "text/plain": [
       "252-element Vector{Float64}:\n",
       " -10.000000000000007\n",
       "  -9.000000000000005\n",
       "  -9.000000000000002\n",
       "  -8.000000000000004\n",
       "  -7.9999999999999964\n",
       "  -7.99999999999999\n",
       "  -7.000000000000009\n",
       "  -7.000000000000008\n",
       "  -7.000000000000005\n",
       "  -7.000000000000002\n",
       "  -6.9999999999999964\n",
       "  -6.999999999999994\n",
       "  -6.000000000000024\n",
       "   ⋮\n",
       "   6.999999999999991\n",
       "   6.999999999999992\n",
       "   6.999999999999994\n",
       "   6.999999999999995\n",
       "   6.999999999999998\n",
       "   7.0\n",
       "   7.999999999999981\n",
       "   8.0\n",
       "   8.000000000000002\n",
       "   8.999999999999993\n",
       "   9.000000000000005\n",
       "  10.000000000000002"
      ]
     },
     "execution_count": 276,
     "metadata": {},
     "output_type": "execute_result"
    }
   ],
   "source": [
    "@time eigvecs(H_J(J,bases))\n",
    "@time eigvals(H_J(J,bases))"
   ]
  },
  {
   "cell_type": "code",
   "execution_count": 277,
   "id": "e974d8fd",
   "metadata": {},
   "outputs": [
    {
     "name": "stdout",
     "output_type": "stream",
     "text": [
      "  0.009278 seconds (22.36 k allocations: 810.625 KiB)\n"
     ]
    },
    {
     "data": {
      "text/plain": [
       "6-element Vector{Float64}:\n",
       " -10.000000000000012\n",
       "  10.000000000000004\n",
       "   8.999999999999993\n",
       "  -8.999999999999982\n",
       "   8.999999999999979\n",
       "  -8.999999999999975"
      ]
     },
     "execution_count": 277,
     "metadata": {},
     "output_type": "execute_result"
    }
   ],
   "source": [
    "@time λ,ϕ=eigs(H_J_sparse(bases));\n",
    "λ"
   ]
  },
  {
   "cell_type": "code",
   "execution_count": 278,
   "id": "8e79f400",
   "metadata": {
    "scrolled": true
   },
   "outputs": [],
   "source": [
    "using Graphs, GraphRecipes"
   ]
  },
  {
   "cell_type": "code",
   "execution_count": 279,
   "id": "744f4da4",
   "metadata": {
    "scrolled": false
   },
   "outputs": [
    {
     "data": {
      "image/svg+xml": [
       "<?xml version=\"1.0\" encoding=\"utf-8\"?>\n",
       "<svg xmlns=\"http://www.w3.org/2000/svg\" xmlns:xlink=\"http://www.w3.org/1999/xlink\" width=\"600\" height=\"400\" viewBox=\"0 0 2400 1600\">\n",
       "<defs>\n",
       "  <clipPath id=\"clip020\">\n",
       "    <rect x=\"0\" y=\"0\" width=\"2400\" height=\"1600\"/>\n",
       "  </clipPath>\n",
       "</defs>\n",
       "<path clip-path=\"url(#clip020)\" d=\"\n",
       "M0 1600 L2400 1600 L2400 0 L0 0  Z\n",
       "  \" fill=\"#ffffff\" fill-rule=\"evenodd\" fill-opacity=\"1\"/>\n",
       "<defs>\n",
       "  <clipPath id=\"clip021\">\n",
       "    <rect x=\"480\" y=\"0\" width=\"1681\" height=\"1600\"/>\n",
       "  </clipPath>\n",
       "</defs>\n",
       "<path clip-path=\"url(#clip020)\" d=\"\n",
       "M447.244 1552.76 L1952.76 1552.76 L1952.76 47.2441 L447.244 47.2441  Z\n",
       "  \" fill=\"#ffffff\" fill-rule=\"evenodd\" fill-opacity=\"1\"/>\n",
       "<defs>\n",
       "  <clipPath id=\"clip022\">\n",
       "    <rect x=\"447\" y=\"47\" width=\"1507\" height=\"1507\"/>\n",
       "  </clipPath>\n",
       "</defs>\n",
       "<polyline clip-path=\"url(#clip022)\" style=\"stroke:#000000; stroke-linecap:round; stroke-linejoin:round; stroke-width:4; stroke-opacity:1; fill:none\" points=\"\n",
       "  1283.5,1337.68 745.818,1136.74 \n",
       "  \"/>\n",
       "<polyline clip-path=\"url(#clip022)\" style=\"stroke:#000000; stroke-linecap:round; stroke-linejoin:round; stroke-width:4; stroke-opacity:1; fill:none\" points=\"\n",
       "  1283.5,1337.68 1737.68,1000.94 \n",
       "  \"/>\n",
       "<polyline clip-path=\"url(#clip022)\" style=\"stroke:#000000; stroke-linecap:round; stroke-linejoin:round; stroke-width:4; stroke-opacity:1; fill:none\" points=\"\n",
       "  745.818,1136.74 662.317,599.057 \n",
       "  \"/>\n",
       "<polyline clip-path=\"url(#clip022)\" style=\"stroke:#000000; stroke-linecap:round; stroke-linejoin:round; stroke-width:4; stroke-opacity:1; fill:none\" points=\"\n",
       "  662.317,599.057 1116.5,262.317 \n",
       "  \"/>\n",
       "<polyline clip-path=\"url(#clip022)\" style=\"stroke:#000000; stroke-linecap:round; stroke-linejoin:round; stroke-width:4; stroke-opacity:1; fill:none\" points=\"\n",
       "  1116.5,262.317 1654.18,463.259 \n",
       "  \"/>\n",
       "<polyline clip-path=\"url(#clip022)\" style=\"stroke:#000000; stroke-linecap:round; stroke-linejoin:round; stroke-width:4; stroke-opacity:1; fill:none\" points=\"\n",
       "  1654.18,463.259 1737.68,1000.94 \n",
       "  \"/>\n",
       "<path clip-path=\"url(#clip022)\" d=\"\n",
       "M1312.18 1337.68 L1297.84 1312.85 L1269.16 1312.85 L1254.82 1337.68 L1269.16 1362.52 L1297.84 1362.52 L1312.18 1337.68 L1312.18 1337.68  Z\n",
       "  \" fill=\"#009af9\" fill-rule=\"evenodd\" fill-opacity=\"1\"/>\n",
       "<polyline clip-path=\"url(#clip022)\" style=\"stroke:#000000; stroke-linecap:round; stroke-linejoin:round; stroke-width:4; stroke-opacity:1; fill:none\" points=\"\n",
       "  1312.18,1337.68 1297.84,1312.85 1269.16,1312.85 1254.82,1337.68 1269.16,1362.52 1297.84,1362.52 1312.18,1337.68 \n",
       "  \"/>\n",
       "<path clip-path=\"url(#clip022)\" d=\"\n",
       "M774.495 1136.74 L760.157 1111.91 L731.48 1111.91 L717.142 1136.74 L731.48 1161.58 L760.157 1161.58 L774.495 1136.74 L774.495 1136.74  Z\n",
       "  \" fill=\"#009af9\" fill-rule=\"evenodd\" fill-opacity=\"1\"/>\n",
       "<polyline clip-path=\"url(#clip022)\" style=\"stroke:#000000; stroke-linecap:round; stroke-linejoin:round; stroke-width:4; stroke-opacity:1; fill:none\" points=\"\n",
       "  774.495,1136.74 760.157,1111.91 731.48,1111.91 717.142,1136.74 731.48,1161.58 760.157,1161.58 774.495,1136.74 \n",
       "  \"/>\n",
       "<path clip-path=\"url(#clip022)\" d=\"\n",
       "M690.994 599.057 L676.655 574.222 L647.979 574.222 L633.641 599.057 L647.979 623.891 L676.655 623.891 L690.994 599.057 L690.994 599.057  Z\n",
       "  \" fill=\"#009af9\" fill-rule=\"evenodd\" fill-opacity=\"1\"/>\n",
       "<polyline clip-path=\"url(#clip022)\" style=\"stroke:#000000; stroke-linecap:round; stroke-linejoin:round; stroke-width:4; stroke-opacity:1; fill:none\" points=\"\n",
       "  690.994,599.057 676.655,574.222 647.979,574.222 633.641,599.057 647.979,623.891 676.655,623.891 690.994,599.057 \n",
       "  \"/>\n",
       "<path clip-path=\"url(#clip022)\" d=\"\n",
       "M1145.18 262.317 L1130.84 237.483 L1102.16 237.483 L1087.82 262.317 L1102.16 287.152 L1130.84 287.152 L1145.18 262.317 L1145.18 262.317  Z\n",
       "  \" fill=\"#009af9\" fill-rule=\"evenodd\" fill-opacity=\"1\"/>\n",
       "<polyline clip-path=\"url(#clip022)\" style=\"stroke:#000000; stroke-linecap:round; stroke-linejoin:round; stroke-width:4; stroke-opacity:1; fill:none\" points=\"\n",
       "  1145.18,262.317 1130.84,237.483 1102.16,237.483 1087.82,262.317 1102.16,287.152 1130.84,287.152 1145.18,262.317 \n",
       "  \"/>\n",
       "<path clip-path=\"url(#clip022)\" d=\"\n",
       "M1682.86 463.259 L1668.52 438.424 L1639.84 438.424 L1625.51 463.259 L1639.84 488.094 L1668.52 488.094 L1682.86 463.259 L1682.86 463.259  Z\n",
       "  \" fill=\"#009af9\" fill-rule=\"evenodd\" fill-opacity=\"1\"/>\n",
       "<polyline clip-path=\"url(#clip022)\" style=\"stroke:#000000; stroke-linecap:round; stroke-linejoin:round; stroke-width:4; stroke-opacity:1; fill:none\" points=\"\n",
       "  1682.86,463.259 1668.52,438.424 1639.84,438.424 1625.51,463.259 1639.84,488.094 1668.52,488.094 1682.86,463.259 \n",
       "  \"/>\n",
       "<path clip-path=\"url(#clip022)\" d=\"\n",
       "M1766.36 1000.94 L1752.02 976.109 L1723.34 976.109 L1709.01 1000.94 L1723.34 1025.78 L1752.02 1025.78 L1766.36 1000.94 L1766.36 1000.94  Z\n",
       "  \" fill=\"#009af9\" fill-rule=\"evenodd\" fill-opacity=\"1\"/>\n",
       "<polyline clip-path=\"url(#clip022)\" style=\"stroke:#000000; stroke-linecap:round; stroke-linejoin:round; stroke-width:4; stroke-opacity:1; fill:none\" points=\"\n",
       "  1766.36,1000.94 1752.02,976.109 1723.34,976.109 1709.01,1000.94 1723.34,1025.78 1752.02,1025.78 1766.36,1000.94 \n",
       "  \"/>\n",
       "<path clip-path=\"url(#clip022)\" d=\"M1283.5 1338.08 L1283.15 1337.88 L1283.15 1337.48 L1283.5 1337.28 L1283.85 1337.48 L1283.85 1337.88 Z\" fill=\"#009af9\" fill-rule=\"evenodd\" fill-opacity=\"1\" stroke=\"#000000\" stroke-opacity=\"1\" stroke-width=\"3.2\"/>\n",
       "<path clip-path=\"url(#clip022)\" d=\"M745.818 1137.14 L745.472 1136.94 L745.472 1136.54 L745.818 1136.34 L746.165 1136.54 L746.165 1136.94 Z\" fill=\"#009af9\" fill-rule=\"evenodd\" fill-opacity=\"1\" stroke=\"#000000\" stroke-opacity=\"1\" stroke-width=\"3.2\"/>\n",
       "<path clip-path=\"url(#clip022)\" d=\"M662.317 599.457 L661.971 599.257 L661.971 598.857 L662.317 598.657 L662.664 598.857 L662.664 599.257 Z\" fill=\"#009af9\" fill-rule=\"evenodd\" fill-opacity=\"1\" stroke=\"#000000\" stroke-opacity=\"1\" stroke-width=\"3.2\"/>\n",
       "<path clip-path=\"url(#clip022)\" d=\"M1116.5 262.717 L1116.15 262.517 L1116.15 262.117 L1116.5 261.917 L1116.85 262.117 L1116.85 262.517 Z\" fill=\"#009af9\" fill-rule=\"evenodd\" fill-opacity=\"1\" stroke=\"#000000\" stroke-opacity=\"1\" stroke-width=\"3.2\"/>\n",
       "<path clip-path=\"url(#clip022)\" d=\"M1654.18 463.659 L1653.84 463.459 L1653.84 463.059 L1654.18 462.859 L1654.53 463.059 L1654.53 463.459 Z\" fill=\"#009af9\" fill-rule=\"evenodd\" fill-opacity=\"1\" stroke=\"#000000\" stroke-opacity=\"1\" stroke-width=\"3.2\"/>\n",
       "<path clip-path=\"url(#clip022)\" d=\"M1737.68 1001.34 L1737.34 1001.14 L1737.34 1000.74 L1737.68 1000.54 L1738.03 1000.74 L1738.03 1001.14 Z\" fill=\"#009af9\" fill-rule=\"evenodd\" fill-opacity=\"1\" stroke=\"#000000\" stroke-opacity=\"1\" stroke-width=\"3.2\"/>\n",
       "</svg>\n"
      ]
     },
     "execution_count": 279,
     "metadata": {},
     "output_type": "execute_result"
    }
   ],
   "source": [
    "g = cycle_graph(M)\n",
    "graphplot(g, curves=false)"
   ]
  },
  {
   "cell_type": "code",
   "execution_count": 280,
   "id": "6f412462",
   "metadata": {},
   "outputs": [
    {
     "data": {
      "text/plain": [
       "6×6 SparseMatrixCSC{Int64, Int64} with 12 stored entries:\n",
       " ⋅  1  ⋅  ⋅  ⋅  1\n",
       " 1  ⋅  1  ⋅  ⋅  ⋅\n",
       " ⋅  1  ⋅  1  ⋅  ⋅\n",
       " ⋅  ⋅  1  ⋅  1  ⋅\n",
       " ⋅  ⋅  ⋅  1  ⋅  1\n",
       " 1  ⋅  ⋅  ⋅  1  ⋅"
      ]
     },
     "execution_count": 280,
     "metadata": {},
     "output_type": "execute_result"
    }
   ],
   "source": [
    "A=adjacency_matrix(g)"
   ]
  },
  {
   "cell_type": "code",
   "execution_count": 281,
   "id": "dfe76c87",
   "metadata": {},
   "outputs": [
    {
     "data": {
      "text/plain": [
       "H_J_graph (generic function with 1 method)"
      ]
     },
     "execution_count": 281,
     "metadata": {},
     "output_type": "execute_result"
    }
   ],
   "source": [
    "function H_J_graph(J::Float64,N::Int64,M::Int64,D::Int64,bases::Matrix{Int64},g::SimpleGraph{Int64})\n",
    "    Edges=Tuple.(edges(g)) #La lista hecha tupla de enlaces de la gráfica\n",
    "    H=zeros(D,D) # contruimos la matriz con las dimensiones D,D\n",
    "    #Esta es la parte     at_{i}*a_{j} + at_{j}*a_{i}\n",
    "    for l=1:D #Usaremos cada elemento de la base\n",
    "        for mus=1:length(Edges) #Recorreremos cada enlace\n",
    "            n=bases[l,:] #Es el vector con el que se trabajara\n",
    "            #Aplicamos a cada enlace los operadores de creación y aniquilación\n",
    "            a=descenso_mu(Edges[mus][1],N,n)\n",
    "            at=ascenso_mu(Edges[mus][2],N,n)\n",
    "\n",
    "            if at*a != 0\n",
    "                col=Buscador(n,N,M); #Busca el vector correspondiente al transformado por a*at\n",
    "                H[col,l]=H[col,l]-J*at*a\n",
    "                H[l,col]=H[l,col]-J*at*a\n",
    "            end\n",
    "        end\n",
    "    end\n",
    "    return H\n",
    "end"
   ]
  },
  {
   "cell_type": "code",
   "execution_count": 282,
   "id": "47d82724",
   "metadata": {},
   "outputs": [
    {
     "name": "stdout",
     "output_type": "stream",
     "text": [
      "  0.001053 seconds (1.52 k allocations: 661.859 KiB)\n",
      "  0.001000 seconds (1.51 k allocations: 661.547 KiB)\n"
     ]
    }
   ],
   "source": [
    "@time H_J_graph(J,N,M,D,bases,g);\n",
    "@time H_J(J,N,M,D,bases);"
   ]
  },
  {
   "cell_type": "code",
   "execution_count": null,
   "id": "bd8a12bf",
   "metadata": {},
   "outputs": [],
   "source": []
  },
  {
   "cell_type": "code",
   "execution_count": null,
   "id": "08b42830",
   "metadata": {},
   "outputs": [],
   "source": []
  }
 ],
 "metadata": {
  "kernelspec": {
   "display_name": "Julia 1.8.0",
   "language": "julia",
   "name": "julia-1.8"
  },
  "language_info": {
   "file_extension": ".jl",
   "mimetype": "application/julia",
   "name": "julia",
   "version": "1.8.0"
  }
 },
 "nbformat": 4,
 "nbformat_minor": 5
}
